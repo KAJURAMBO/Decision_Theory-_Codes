{
 "cells": [
  {
   "cell_type": "code",
   "execution_count": 22,
   "metadata": {},
   "outputs": [],
   "source": [
    "##Defining the function\n",
    "\n",
    "def function(x):\n",
    "        results=x**2+54/x\n",
    "        return results"
   ]
  },
  {
   "cell_type": "code",
   "execution_count": 23,
   "metadata": {},
   "outputs": [],
   "source": [
    "a=1  #Lower mint\n",
    "b=5  #Upper limit\n",
    "L=b-a\n",
    "epsilon=0.01\n",
    "tau=0.618"
   ]
  },
  {
   "cell_type": "code",
   "execution_count": 24,
   "metadata": {},
   "outputs": [],
   "source": [
    "\n",
    "\n",
    "while (L>=epsilon): # If the interval length is greater than 'e'\n",
    "    L = b-a \n",
    "    x1 = (b-a)*(1-tau)+a\n",
    "    x2 = (b-a)*(tau)+a\n",
    "    fx1 = function(x1)\n",
    "    fx2 = function(x2)\n",
    "\n",
    "    if (fx1<fx2):\n",
    "        b = x2\n",
    "        x2=x1\n",
    "        fx2 = fx1\n",
    "        x1 = (b-a)*(1-tau)+a\n",
    "    if (fx1>fx2):\n",
    "        a = x1\n",
    "        x1 = x2 \n",
    "        fx1 = fx2\n",
    "        x2 = (b-a)*(tau)+a\n",
    "\n",
    "    "
   ]
  },
  {
   "cell_type": "code",
   "execution_count": 25,
   "metadata": {},
   "outputs": [
    {
     "name": "stdout",
     "output_type": "stream",
     "text": [
      "2.9986 2.9997\n"
     ]
    }
   ],
   "source": [
    "print(round(x1,4),round(x2,4))"
   ]
  },
  {
   "cell_type": "code",
   "execution_count": null,
   "metadata": {},
   "outputs": [],
   "source": []
  }
 ],
 "metadata": {
  "kernelspec": {
   "display_name": "Python 3.10.6 64-bit (windows store)",
   "language": "python",
   "name": "python3"
  },
  "language_info": {
   "codemirror_mode": {
    "name": "ipython",
    "version": 3
   },
   "file_extension": ".py",
   "mimetype": "text/x-python",
   "name": "python",
   "nbconvert_exporter": "python",
   "pygments_lexer": "ipython3",
   "version": "3.10.6"
  },
  "orig_nbformat": 4,
  "vscode": {
   "interpreter": {
    "hash": "be0c76a15e7db832c1cef9e000d0973fde535108692ea45e0855d7f2c98f1a97"
   }
  }
 },
 "nbformat": 4,
 "nbformat_minor": 2
}
