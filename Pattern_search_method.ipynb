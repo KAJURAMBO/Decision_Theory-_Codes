{
 "cells": [
  {
   "cell_type": "code",
   "execution_count": 2,
   "metadata": {},
   "outputs": [],
   "source": [
    "## Import Dependencies\n",
    "import math\n",
    "import numpy as np"
   ]
  },
  {
   "cell_type": "code",
   "execution_count": 3,
   "metadata": {},
   "outputs": [],
   "source": [
    "##Define function values\n",
    "def function(x):\n",
    "        x1 = x[0]\n",
    "        x2 = x[1]    \n",
    "        fval = ((x1**2+ x2 -11)**2 + (x1 + x2**2-7)**2)  # enter your function here\n",
    "        return fval"
   ]
  },
  {
   "cell_type": "code",
   "execution_count": 29,
   "metadata": {},
   "outputs": [
    {
     "name": "stdout",
     "output_type": "stream",
     "text": [
      "Optimisation point for X1= 3\n",
      "Optimisation point for X2= 2\n",
      "Step size for the iteration= 0.00625 ~ 0\n"
     ]
    }
   ],
   "source": [
    "tolerance=0.01 ## For stopping \n",
    "epsilon=0.2\n",
    "X_initial_x1=1 ## initial value for X1\n",
    "X_initial_x2=1 ## Initial Value for X2\n",
    "\n",
    "##starting iterations\n",
    "while True:\n",
    "\n",
    "        ##Point Calculations\n",
    "        point_1=X_initial_x1+epsilon\n",
    "        point_2=X_initial_x1-epsilon\n",
    "        point_3=X_initial_x2\n",
    "        point_4=X_initial_x2\n",
    "        # Assigning the line points\n",
    "        x=[[X_initial_x1,X_initial_x2],[point_1,point_3],[point_2,point_4]]\n",
    "        # print(x)\n",
    "        store=[]\n",
    "        ##evaluation of function on above points\n",
    "        for i in range(len(x)):\n",
    "                m=x[i]\n",
    "                eval=function(m)\n",
    "                store.append(round(eval,3))\n",
    "        # print(store)\n",
    "        min_val = store[0]\n",
    "        min_val_idx = 0\n",
    "        for i in range(len(store)):\n",
    "                if store[i] < min_val:\n",
    "                        min_val = store[i]\n",
    "                        min_val_idx = i\n",
    "        # print(min_val_idx,min_val)\n",
    "        X_initial_x1=x[min_val_idx][0] \n",
    "        X_initial_x2=x[min_val_idx][1]\n",
    "        # Updating the points for the vertical direction\n",
    "        point_1=X_initial_x1\n",
    "        point_2=X_initial_x1\n",
    "        point_3=X_initial_x2+epsilon\n",
    "        point_4=X_initial_x2-epsilon\n",
    "        # New line points for vertical directions\n",
    "        x=[[X_initial_x1,X_initial_x2],[point_1,point_3],[point_2,point_4]]\n",
    "        # print(x)\n",
    "        store=[]\n",
    "        ##evaluation of function on vertical points\n",
    "        for i in range(len(x)):\n",
    "                m=x[i]\n",
    "                eval=function(m)\n",
    "                store.append(round(eval,3))\n",
    "        # print(store)\n",
    "        min_val = store[0]\n",
    "        min_val_idx = 0\n",
    "        for i in range(len(store)):\n",
    "                if store[i] < min_val:\n",
    "                        min_val = store[i]\n",
    "                        min_val_idx = i\n",
    "        # print(min_val_idx,min_val)\n",
    "        # Updating the points\n",
    "        X_initial_x1=x[min_val_idx][0]+epsilon\n",
    "        X_initial_x2=x[min_val_idx][1]+epsilon\n",
    "        new_x=[X_initial_x1,X_initial_x2]\n",
    "        # print(X_initial_x1,X_initial_x2)\n",
    "\n",
    "        # Checking whther the below line point is smaller or not.\n",
    "        if function(x[0])<=function(new_x):\n",
    "                epsilon=epsilon/2\n",
    "                x=[[new_x],[point_1,point_3],[point_2,point_4]]\n",
    "        ## Stopping xriteria\n",
    "        if epsilon<tolerance:\n",
    "                break \n",
    "print('Optimisation point for X1=',round(X_initial_x1))\n",
    "print('Optimisation point for X2=',round(X_initial_x2))\n",
    "print('Step size for the iteration=', (epsilon),'~',round(epsilon))\n",
    "\n"
   ]
  },
  {
   "cell_type": "code",
   "execution_count": null,
   "metadata": {},
   "outputs": [],
   "source": []
  }
 ],
 "metadata": {
  "kernelspec": {
   "display_name": "Python 3.10.6 64-bit (windows store)",
   "language": "python",
   "name": "python3"
  },
  "language_info": {
   "codemirror_mode": {
    "name": "ipython",
    "version": 3
   },
   "file_extension": ".py",
   "mimetype": "text/x-python",
   "name": "python",
   "nbconvert_exporter": "python",
   "pygments_lexer": "ipython3",
   "version": "3.10.6"
  },
  "orig_nbformat": 4,
  "vscode": {
   "interpreter": {
    "hash": "be0c76a15e7db832c1cef9e000d0973fde535108692ea45e0855d7f2c98f1a97"
   }
  }
 },
 "nbformat": 4,
 "nbformat_minor": 2
}
