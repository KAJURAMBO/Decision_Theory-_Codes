{
 "cells": [
  {
   "cell_type": "code",
   "execution_count": 7,
   "metadata": {},
   "outputs": [],
   "source": [
    "##Defining the function\n",
    "\n",
    "def function(x):\n",
    "        results=(x**2)+(54/x)\n",
    "        return results\n",
    "\n",
    "def single_derivative(X,delta_x):\n",
    "        f_x=(function(X+delta_x)-function(X-delta_x))/(2*delta_x)\n",
    "        return f_x\n",
    "\n",
    "def double_derivative(X,delta_x):\n",
    "        f_xx=(function(X+delta_x)-2*function(X)+function(X-delta_x))/(delta_x**2)\n",
    "        return f_xx"
   ]
  },
  {
   "cell_type": "code",
   "execution_count": 33,
   "metadata": {},
   "outputs": [
    {
     "name": "stdout",
     "output_type": "stream",
     "text": [
      "The Minima value is  3.00111130658891\n",
      "The Gradiient Value is -0.0018374596809600519\n"
     ]
    }
   ],
   "source": [
    "X_initial=1.5\n",
    "\n",
    "step=0.1\n",
    "\n",
    "while True:\n",
    "           \n",
    "        X_new=X_initial\n",
    "        F_x=single_derivative(X_new,step)\n",
    "        F_xx=double_derivative(X_new,step)\n",
    "        step_update=(F_x/F_xx)\n",
    "        X_new1=X_new-step_update\n",
    "        \n",
    "        X_initial=X_new1\n",
    "\n",
    "        if (abs(single_derivative(X_new,step))<=0.1):\n",
    "                break\n",
    "\n",
    "print('The Minima value is ',X_new1)\n",
    "\n",
    "print('The Gradiient Value is',F_x)"
   ]
  },
  {
   "cell_type": "code",
   "execution_count": null,
   "metadata": {},
   "outputs": [],
   "source": []
  }
 ],
 "metadata": {
  "kernelspec": {
   "display_name": "Python 3.10.6 64-bit (windows store)",
   "language": "python",
   "name": "python3"
  },
  "language_info": {
   "codemirror_mode": {
    "name": "ipython",
    "version": 3
   },
   "file_extension": ".py",
   "mimetype": "text/x-python",
   "name": "python",
   "nbconvert_exporter": "python",
   "pygments_lexer": "ipython3",
   "version": "3.10.6"
  },
  "orig_nbformat": 4,
  "vscode": {
   "interpreter": {
    "hash": "be0c76a15e7db832c1cef9e000d0973fde535108692ea45e0855d7f2c98f1a97"
   }
  }
 },
 "nbformat": 4,
 "nbformat_minor": 2
}
