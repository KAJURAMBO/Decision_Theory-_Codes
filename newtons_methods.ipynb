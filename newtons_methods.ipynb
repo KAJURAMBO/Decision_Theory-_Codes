{
 "cells": [
  {
   "cell_type": "code",
   "execution_count": 4,
   "metadata": {},
   "outputs": [],
   "source": [
    "##Defining the function\n",
    "def function(x):\n",
    "        results=(x**2)+(54/x)\n",
    "        return results\n",
    "##Defining the first derivative in terms of function\n",
    "def single_derivative(X,delta_x):\n",
    "        f_x=(function(X+delta_x)-function(X-delta_x))/(2*delta_x)\n",
    "        return f_x\n",
    "##Defining the second derivative in terms of function\n",
    "def double_derivative(X,delta_x):\n",
    "        f_xx=(function(X+delta_x)-2*function(X)+function(X-delta_x))/(delta_x**2)\n",
    "        return f_xx"
   ]
  },
  {
   "cell_type": "code",
   "execution_count": 8,
   "metadata": {},
   "outputs": [
    {
     "name": "stdout",
     "output_type": "stream",
     "text": [
      "The Optimum value for function is=  3.001\n",
      "The Gradiient Value at optimum is = -0.0018\n"
     ]
    }
   ],
   "source": [
    "X_initial=1.5## Initial starting value\n",
    "step=0.1 ## stepsize for derivative\n",
    "\n",
    "#Start iterating\n",
    "\n",
    "while True:     ## when it will be true then only excutes\n",
    "           \n",
    "        X_new=X_initial\n",
    "        F_x=single_derivative(X_new,step) # 1st derivative calculation\n",
    "        F_xx=double_derivative(X_new,step)# 2nd derivative calculation\n",
    "        step_update=(F_x/F_xx)#stepsize calculation\n",
    "        X_new1=X_new-step_update# New x calculation\n",
    "        \n",
    "        X_initial=X_new1\n",
    "\n",
    "        if (abs(single_derivative(X_new,step))<=0.1): ## condition for checking the derivative \n",
    "                break\n",
    "## Printing the results\n",
    "print('The Optimum value for function is= ',round(X_new1,3))\n",
    "\n",
    "print('The Gradiient Value at optimum is =',round(F_x,4))"
   ]
  },
  {
   "cell_type": "code",
   "execution_count": null,
   "metadata": {},
   "outputs": [],
   "source": []
  }
 ],
 "metadata": {
  "kernelspec": {
   "display_name": "Python 3.10.6 64-bit (windows store)",
   "language": "python",
   "name": "python3"
  },
  "language_info": {
   "codemirror_mode": {
    "name": "ipython",
    "version": 3
   },
   "file_extension": ".py",
   "mimetype": "text/x-python",
   "name": "python",
   "nbconvert_exporter": "python",
   "pygments_lexer": "ipython3",
   "version": "3.10.6"
  },
  "orig_nbformat": 4,
  "vscode": {
   "interpreter": {
    "hash": "be0c76a15e7db832c1cef9e000d0973fde535108692ea45e0855d7f2c98f1a97"
   }
  }
 },
 "nbformat": 4,
 "nbformat_minor": 2
}
