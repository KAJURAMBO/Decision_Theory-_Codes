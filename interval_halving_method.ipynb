{
 "cells": [
  {
   "cell_type": "code",
   "execution_count": 170,
   "metadata": {},
   "outputs": [],
   "source": [
    "##Defining the function\n",
    "\n",
    "def function(x):\n",
    "        results=x**2+54/x\n",
    "        return results"
   ]
  },
  {
   "cell_type": "code",
   "execution_count": 171,
   "metadata": {},
   "outputs": [],
   "source": [
    "a=1  #Lower mint\n",
    "b=5  #Upper limit\n",
    "L=b-a\n",
    "epsilon=0.01"
   ]
  },
  {
   "cell_type": "code",
   "execution_count": 172,
   "metadata": {},
   "outputs": [
    {
     "name": "stdout",
     "output_type": "stream",
     "text": [
      "The minimum Value of function is 3.0 The error is 0.0078125\n"
     ]
    }
   ],
   "source": [
    "#Define Interval Length\n",
    "#L=abs(b-a)\n",
    "#Find Mean of 'a' and 'b'\n",
    "xmean = (a+b)/2\n",
    "#Evaluate function at xm\n",
    "fxm = function(xmean)\n",
    "# Assign initial value to 'k'\n",
    "\n",
    "while (L>=epsilon): # If the interval length is greater than 'e'\n",
    "    L = b-a \n",
    "    x1 = a+L/4\n",
    "    x2 = b-L/4\n",
    "    fx1 = function(x1)\n",
    "    fx2 = function(x2)\n",
    "\n",
    "    if (fx1<fxm):\n",
    "        b = xmean\n",
    "        xmean = x1\n",
    "        fxm = fx1\n",
    "    if (fx2<fxm):\n",
    "        a = xmean\n",
    "        xmean = x2 \n",
    "        fxm = fx2\n",
    "    else:\n",
    "        a=x1\n",
    "        b=x2\n",
    "print(\"The minimum Value of function is\",xmean,\"The error is\",L)"
   ]
  },
  {
   "cell_type": "code",
   "execution_count": null,
   "metadata": {},
   "outputs": [],
   "source": []
  },
  {
   "cell_type": "code",
   "execution_count": null,
   "metadata": {},
   "outputs": [],
   "source": []
  }
 ],
 "metadata": {
  "kernelspec": {
   "display_name": "Python 3.10.6 64-bit (windows store)",
   "language": "python",
   "name": "python3"
  },
  "language_info": {
   "codemirror_mode": {
    "name": "ipython",
    "version": 3
   },
   "file_extension": ".py",
   "mimetype": "text/x-python",
   "name": "python",
   "nbconvert_exporter": "python",
   "pygments_lexer": "ipython3",
   "version": "3.10.6"
  },
  "orig_nbformat": 4,
  "vscode": {
   "interpreter": {
    "hash": "be0c76a15e7db832c1cef9e000d0973fde535108692ea45e0855d7f2c98f1a97"
   }
  }
 },
 "nbformat": 4,
 "nbformat_minor": 2
}
