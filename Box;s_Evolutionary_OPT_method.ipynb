{
 "cells": [
  {
   "cell_type": "code",
   "execution_count": 1,
   "metadata": {},
   "outputs": [],
   "source": [
    "import math\n",
    "import numpy as np"
   ]
  },
  {
   "cell_type": "code",
   "execution_count": 7,
   "metadata": {},
   "outputs": [],
   "source": [
    "def function(x):\n",
    "\n",
    "        x1 = x[0]\n",
    "        x2 = x[1]\n",
    "  \n",
    "       \n",
    "        fval = ((x1**2+ x2 -11)**2 + (x1 + x2**2-7)**2)  # enter your function here\n",
    "        return fval"
   ]
  },
  {
   "cell_type": "code",
   "execution_count": 8,
   "metadata": {},
   "outputs": [],
   "source": [
    "epsilon=0.4\n",
    "tolerance=0.1\n",
    "\n",
    "upper_limit_x1=5\n",
    "lower_limit_x1=1\n",
    "delta=upper_limit_x1-lower_limit_x1\n",
    "X_initial_x1=1 \n",
    "\n",
    "upper_limit_x2=5\n",
    "lower_limit_x2=1\n",
    "delta=upper_limit_x2-lower_limit_x2\n",
    "X_initial_x2=1 "
   ]
  },
  {
   "cell_type": "code",
   "execution_count": 9,
   "metadata": {},
   "outputs": [
    {
     "name": "stdout",
     "output_type": "stream",
     "text": [
      "Optimisation point for X1= 1.4\n",
      "Optimisation point for X2= 1.4\n",
      "1\n",
      "1.4 1.4 1.4\n",
      "0.2\n",
      "Optimisation point for X1= 1.5999999999999999\n",
      "Optimisation point for X2= 1.5999999999999999\n",
      "1\n",
      "1.5999999999999999 1.5999999999999999 1.5999999999999999\n",
      "0.1\n",
      "Optimisation point for X1= 1.7\n",
      "Optimisation point for X2= 1.7\n",
      "1\n",
      "1.7 1.7 1.7\n",
      "0.05\n"
     ]
    }
   ],
   "source": [
    "\n",
    "while True:\n",
    "\n",
    "        point_1=X_initial_x1+epsilon\n",
    "        point_2=X_initial_x1-epsilon\n",
    "        point_3=X_initial_x2+epsilon\n",
    "        point_4=X_initial_x2-epsilon\n",
    "        x=[[X_initial_x1,X_initial_x2],[point_1,point_3],[point_1,point_4],[point_2,point_3],[point_2,point_4]]\n",
    "        store=[]\n",
    "        for i in range(5):\n",
    "                m=x[i]\n",
    "                eval=function(m)\n",
    "                store.append(eval)  \n",
    "        min_val = store[0]\n",
    "        min_val_idx = 0\n",
    "        for i in range(len(store)):\n",
    "                if store[i] < min_val:\n",
    "                        min_val = store[i]\n",
    "                        min_val_idx = i\n",
    "        X_initial_x1=x[min_val_idx][0] \n",
    "        X_initial_x2=x[min_val_idx][1]\n",
    "        print('Optimisation point for X1=',X_initial_x1)\n",
    "        print('Optimisation point for X2=',X_initial_x2)\n",
    "        print(min_val_idx)\n",
    "        print(point_1,point_1,point_3)\n",
    "\n",
    "        if ((abs(point_1-X_initial_x1) and abs(point_2-X_initial_x2)) and (abs(point_3-X_initial_x2)) and (abs(point_4-X_initial_x2)))<=epsilon:\n",
    "                epsilon=epsilon/2\n",
    "        print(epsilon)\n",
    "        \n",
    "        if epsilon<tolerance:\n",
    "                break    \n",
    "\n"
   ]
  },
  {
   "cell_type": "code",
   "execution_count": 10,
   "metadata": {},
   "outputs": [
    {
     "name": "stdout",
     "output_type": "stream",
     "text": [
      "1.7 1.7\n",
      "[[1.5999999999999999, 1.5999999999999999], [1.7, 1.7], [1.7, 1.4999999999999998], [1.4999999999999998, 1.7], [1.4999999999999998, 1.4999999999999998]]\n",
      "63.125\n",
      "0.0\n",
      "26\n",
      "39.3632\n"
     ]
    }
   ],
   "source": [
    "print(round(X_initial_x1,3),round(X_initial_x2,3))\n",
    "print((x))\n",
    "print(round(eval,3))\n",
    "print(abs(point_1-X_initial_x1))\n",
    "print(function([3,3]))\n",
    "print(function([1.8,1.8]))"
   ]
  },
  {
   "cell_type": "code",
   "execution_count": null,
   "metadata": {},
   "outputs": [],
   "source": []
  },
  {
   "cell_type": "code",
   "execution_count": null,
   "metadata": {},
   "outputs": [],
   "source": []
  }
 ],
 "metadata": {
  "kernelspec": {
   "display_name": "Python 3.10.6 64-bit (windows store)",
   "language": "python",
   "name": "python3"
  },
  "language_info": {
   "codemirror_mode": {
    "name": "ipython",
    "version": 3
   },
   "file_extension": ".py",
   "mimetype": "text/x-python",
   "name": "python",
   "nbconvert_exporter": "python",
   "pygments_lexer": "ipython3",
   "version": "3.10.6"
  },
  "orig_nbformat": 4,
  "vscode": {
   "interpreter": {
    "hash": "be0c76a15e7db832c1cef9e000d0973fde535108692ea45e0855d7f2c98f1a97"
   }
  }
 },
 "nbformat": 4,
 "nbformat_minor": 2
}
