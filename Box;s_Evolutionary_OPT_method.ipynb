{
 "cells": [
  {
   "cell_type": "code",
   "execution_count": 62,
   "metadata": {},
   "outputs": [],
   "source": [
    "## Import Dependencies\n",
    "import math\n",
    "import numpy as np"
   ]
  },
  {
   "cell_type": "code",
   "execution_count": 63,
   "metadata": {},
   "outputs": [],
   "source": [
    "##Define function values\n",
    "def function(x):\n",
    "        x1 = x[0]\n",
    "        x2 = x[1]    \n",
    "        fval = ((x1**2+ x2 -11)**2 + (x1 + x2**2-7)**2)  # enter your function here\n",
    "        return fval"
   ]
  },
  {
   "cell_type": "code",
   "execution_count": 64,
   "metadata": {},
   "outputs": [],
   "source": [
    "##Define initial stepsize and tolerance for stopping\n",
    "epsilon=0.4\n",
    "tolerance=0.001\n",
    "\n",
    "##Set limits on variables\n",
    "upper_limit_x1=5\n",
    "lower_limit_x1=1\n",
    "delta=upper_limit_x1-lower_limit_x1\n",
    "X_initial_x1=1 \n",
    "\n",
    "upper_limit_x2=5\n",
    "lower_limit_x2=1\n",
    "delta=upper_limit_x2-lower_limit_x2\n",
    "X_initial_x2=1 "
   ]
  },
  {
   "cell_type": "code",
   "execution_count": 65,
   "metadata": {},
   "outputs": [
    {
     "name": "stdout",
     "output_type": "stream",
     "text": [
      "Optimisation point for X1= 3\n",
      "Optimisation point for X2= 2\n",
      "Step size for the iteration= 0.00078125 ~ 0\n",
      "Function value at optimum point 0.00018057252168661745 ~ 0\n"
     ]
    }
   ],
   "source": [
    "## Start iterations\n",
    "\n",
    "while True:## If teue it will going on iterarting\n",
    "        #Point calculation\n",
    "        point_1=X_initial_x1+epsilon\n",
    "        point_2=X_initial_x1-epsilon\n",
    "        point_3=X_initial_x2+epsilon\n",
    "        point_4=X_initial_x2-epsilon\n",
    "        # Assigning the cornors points\n",
    "        x=[[X_initial_x1,X_initial_x2],[point_1,point_3],[point_1,point_4],[point_2,point_3],[point_2,point_4]]\n",
    "        store=[]\n",
    "        ##evaluation of function on above points\n",
    "        for i in range(5):\n",
    "                m=x[i]\n",
    "                eval=function(m)\n",
    "                store.append(eval)\n",
    "        ## Finding the minimum evaluation point and its index in x  \n",
    "        min_val = store[0]\n",
    "        min_val_idx = 0\n",
    "        for i in range(len(store)):\n",
    "                if store[i] < min_val:\n",
    "                        min_val = store[i]\n",
    "                        min_val_idx = i\n",
    "        X_initial_x1=x[min_val_idx][0] \n",
    "        X_initial_x2=x[min_val_idx][1]\n",
    "                                                                # print('Optimisation point for X1=',X_initial_x1)\n",
    "                                                                # print('Optimisation point for X2=',X_initial_x2)\n",
    "        ## Just for varification during coding                  #print(min_val_idx)\n",
    "                                                                #print(point_1,point_1,point_3)\n",
    "\n",
    "\n",
    "        ## Checking whether the mid point is minimum or not\n",
    "        if ((function(x[0]))<=(function(x[1]))) and ((function(x[0]))<=(function(x[2]))) and ((function(x[0]))<=(function(x[3]))) and((function(x[0]))<=(function(x[4]))):\n",
    "                #Halfing the stepsize\n",
    "                epsilon=epsilon/2\n",
    "                x=[[x[0]],[x[1]],[x[2]],[x[3]],[x[4]]]\n",
    "\n",
    "      \n",
    "        ##checking for tolerance reached for the step\n",
    "        if epsilon<tolerance:\n",
    "                break    \n",
    "## Printing the results\n",
    "print('Optimisation point for X1=',round(X_initial_x1))\n",
    "print('Optimisation point for X2=',round(X_initial_x2))\n",
    "print('Step size for the iteration=', (epsilon),'~',round(epsilon))\n",
    "print('Function value at optimum point',(eval),'~',round(eval))"
   ]
  },
  {
   "cell_type": "code",
   "execution_count": 66,
   "metadata": {},
   "outputs": [],
   "source": [
    "# print(round(X_initial_x1,3),round(X_initial_x2,3))\n",
    "# print((x))\n",
    "# print(round(eval,3))\n",
    "# print(abs(point_1-X_initial_x1))\n",
    "# print(function([3,3]))\n",
    "# print(function([1.8,1.8]))\n",
    "\n",
    "\n",
    "# print(c1)\n",
    "# print(c2)\n",
    "# print(c3)\n",
    "# print(c4)\n",
    "# print(c5)\n"
   ]
  },
  {
   "cell_type": "code",
   "execution_count": null,
   "metadata": {},
   "outputs": [],
   "source": []
  },
  {
   "cell_type": "code",
   "execution_count": null,
   "metadata": {},
   "outputs": [],
   "source": []
  }
 ],
 "metadata": {
  "kernelspec": {
   "display_name": "Python 3.10.6 64-bit (windows store)",
   "language": "python",
   "name": "python3"
  },
  "language_info": {
   "codemirror_mode": {
    "name": "ipython",
    "version": 3
   },
   "file_extension": ".py",
   "mimetype": "text/x-python",
   "name": "python",
   "nbconvert_exporter": "python",
   "pygments_lexer": "ipython3",
   "version": "3.10.6"
  },
  "orig_nbformat": 4,
  "vscode": {
   "interpreter": {
    "hash": "be0c76a15e7db832c1cef9e000d0973fde535108692ea45e0855d7f2c98f1a97"
   }
  }
 },
 "nbformat": 4,
 "nbformat_minor": 2
}
