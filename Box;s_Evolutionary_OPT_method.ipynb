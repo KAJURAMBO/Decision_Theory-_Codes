{
 "cells": [
  {
   "cell_type": "code",
   "execution_count": 1,
   "metadata": {},
   "outputs": [],
   "source": [
    "import math\n",
    "import numpy as np"
   ]
  },
  {
   "cell_type": "code",
   "execution_count": 43,
   "metadata": {},
   "outputs": [],
   "source": [
    "# def function(x_1,x_2):\n",
    "#       results=(x_1**2+x_2-11)**2+(x_1+x_2**2-7)**2\n",
    "#       return results\n",
    "\n",
    "\n",
    "def function(x):\n",
    "\n",
    "        x1 = x[0]\n",
    "        x2 = x[1]\n",
    "  \n",
    "       \n",
    "        fval = ((x1**2+ x2 -11)**2 + (x1 + x2**2-7)**2)  # enter your function here\n",
    "        return fval"
   ]
  },
  {
   "cell_type": "code",
   "execution_count": 123,
   "metadata": {},
   "outputs": [],
   "source": [
    "epsilon=0.2\n",
    "tolerance=0.1\n",
    "\n",
    "upper_limit_x1=5\n",
    "lower_limit_x1=1\n",
    "delta=upper_limit_x1-lower_limit_x1\n",
    "X_initial_x1=3 #(upper_limit_x1+lower_limit_x1)/2\n",
    "\n",
    "upper_limit_x2=5\n",
    "lower_limit_x2=1\n",
    "delta=upper_limit_x2-lower_limit_x2\n",
    "X_initial_x2=2 #(upper_limit_x2+lower_limit_x2)/2"
   ]
  },
  {
   "cell_type": "code",
   "execution_count": 127,
   "metadata": {},
   "outputs": [
    {
     "ename": "KeyboardInterrupt",
     "evalue": "",
     "output_type": "error",
     "traceback": [
      "\u001b[1;31m---------------------------------------------------------------------------\u001b[0m",
      "\u001b[1;31mKeyboardInterrupt\u001b[0m                         Traceback (most recent call last)",
      "\u001b[1;32md:\\Desktop\\Gate 2021\\Applied\\College\\IITD\\APPLIED MECHANICS\\Sem 3\\Decision Theory\\codes_assignment\\Box;s_Evolutionary_OPT_method.ipynb Cell 4\u001b[0m in \u001b[0;36m<cell line: 1>\u001b[1;34m()\u001b[0m\n\u001b[0;32m      <a href='vscode-notebook-cell:/d%3A/Desktop/Gate%202021/Applied/College/IITD/APPLIED%20MECHANICS/Sem%203/Decision%20Theory/codes_assignment/Box%3Bs_Evolutionary_OPT_method.ipynb#X13sZmlsZQ%3D%3D?line=8'>9</a>\u001b[0m         m\u001b[39m=\u001b[39mx[i]\n\u001b[0;32m     <a href='vscode-notebook-cell:/d%3A/Desktop/Gate%202021/Applied/College/IITD/APPLIED%20MECHANICS/Sem%203/Decision%20Theory/codes_assignment/Box%3Bs_Evolutionary_OPT_method.ipynb#X13sZmlsZQ%3D%3D?line=9'>10</a>\u001b[0m         \u001b[39meval\u001b[39m\u001b[39m=\u001b[39mfunction(m)\n\u001b[1;32m---> <a href='vscode-notebook-cell:/d%3A/Desktop/Gate%202021/Applied/College/IITD/APPLIED%20MECHANICS/Sem%203/Decision%20Theory/codes_assignment/Box%3Bs_Evolutionary_OPT_method.ipynb#X13sZmlsZQ%3D%3D?line=10'>11</a>\u001b[0m         store\u001b[39m.\u001b[39;49mappend(\u001b[39meval\u001b[39;49m)  \n\u001b[0;32m     <a href='vscode-notebook-cell:/d%3A/Desktop/Gate%202021/Applied/College/IITD/APPLIED%20MECHANICS/Sem%203/Decision%20Theory/codes_assignment/Box%3Bs_Evolutionary_OPT_method.ipynb#X13sZmlsZQ%3D%3D?line=11'>12</a>\u001b[0m min_val \u001b[39m=\u001b[39m store[\u001b[39m0\u001b[39m]\n\u001b[0;32m     <a href='vscode-notebook-cell:/d%3A/Desktop/Gate%202021/Applied/College/IITD/APPLIED%20MECHANICS/Sem%203/Decision%20Theory/codes_assignment/Box%3Bs_Evolutionary_OPT_method.ipynb#X13sZmlsZQ%3D%3D?line=12'>13</a>\u001b[0m min_val_idx \u001b[39m=\u001b[39m \u001b[39m0\u001b[39m\n",
      "\u001b[1;31mKeyboardInterrupt\u001b[0m: "
     ]
    }
   ],
   "source": [
    "\n",
    "while True:\n",
    "        point_1=X_initial_x1+epsilon\n",
    "        point_2=X_initial_x1-epsilon\n",
    "        point_3=X_initial_x2+epsilon\n",
    "        point_4=X_initial_x2-epsilon\n",
    "        x=[[X_initial_x1,X_initial_x2],[point_1,point_3],[point_1,point_4],[point_2,point_3],[point_2,point_4]]\n",
    "        store=[]\n",
    "        for i in range(5):\n",
    "                m=x[i]\n",
    "                eval=function(m)\n",
    "                store.append(eval)  \n",
    "        min_val = store[0]\n",
    "        min_val_idx = 0\n",
    "        for i in range(len(store)):\n",
    "                if store[i] < min_val:\n",
    "                        min_val = store[i]\n",
    "                        min_val_idx = i\n",
    "        X_initial_x1=x[min_val_idx][0] \n",
    "        X_initial_x2=x[min_val_idx][1]\n",
    "       \n",
    "\n",
    "        if (abs(point_1-X_initial_x1) and abs(point_2-X_initial_x2))<=tolerance:\n",
    "                break\n",
    "\n",
    "print('Optimisation point for X1=',X_initial_x1)\n",
    "print('Optimisation point for X2=',X_initial_x2)"
   ]
  },
  {
   "cell_type": "code",
   "execution_count": 128,
   "metadata": {},
   "outputs": [
    {
     "name": "stdout",
     "output_type": "stream",
     "text": [
      "3 2\n",
      "[[3, 2], [3.2, 2.2], [3.2, 1.8], [2.8, 2.2], [2.8, 1.8]]\n",
      "1.395\n",
      "0.20000000000000018\n",
      "0.7999999999999998\n"
     ]
    }
   ],
   "source": [
    "print(round(X_initial_x1,3),round(X_initial_x2,3))\n",
    "print((x))\n",
    "print(round(eval,3))\n",
    "print(point_1-X_initial_x1)\n",
    "print(point_2-X_initial_x2)\n",
    "\n"
   ]
  },
  {
   "cell_type": "code",
   "execution_count": 68,
   "metadata": {},
   "outputs": [
    {
     "name": "stdout",
     "output_type": "stream",
     "text": [
      "['AA', 'BB', 'CC', 'DD', 'XX']\n",
      "['XX', 'AA', 'BB', 'CC', 'DD']\n"
     ]
    }
   ],
   "source": [
    "guest_list = ['AA', 'BB', 'CC', 'DD'] \n",
    "guest_list.append(\"XX\") \n",
    "print(guest_list)\n",
    "\n",
    "guest_list = ['AA', 'BB', 'CC', 'DD'] \n",
    "guest_list.insert(0,\"XX\") \n",
    "print(guest_list)"
   ]
  },
  {
   "cell_type": "code",
   "execution_count": 51,
   "metadata": {},
   "outputs": [
    {
     "name": "stdout",
     "output_type": "stream",
     "text": [
      "[[1, 1], [1.4, 1.4], [1.4, 0.6], [0.6, 1.4], [0.6, 0.6]]\n",
      "137.28319999999997\n",
      "1.4 0.6 1.4 0.6\n",
      "0.6\n"
     ]
    }
   ],
   "source": []
  },
  {
   "cell_type": "code",
   "execution_count": 2,
   "metadata": {},
   "outputs": [],
   "source": [
    "x0 =  input('Enter the initial point = ')\n",
    "delta  = input('Enter the size reduction parameter delta = ')\n",
    "## Eg. delta = [2,2]\n",
    "\n",
    "tol = 10**-3\n",
    "\n",
    "\n",
    "y = x0\n",
    "delta1 =np.sqrt(sum(delta**2))\n",
    "j=1\n",
    "\n",
    "while True:\n",
    "    \n",
    "    z1 = x0 - delta/2\n",
    "    z2 = x0 + ([-(delta(1)),delta(2)])/2\n",
    "    z3 = x0 + ([delta(1),-(delta(2))])/2\n",
    "    z4 = x0 + delta/2\n",
    "    \n",
    "    x = (x0,z1,z2,z3,z4)\n",
    "    f = np.zeros (1,5)\n",
    "    \n",
    "    for i in range(5):\n",
    "        f_i = function(x[i])\n",
    "    \n",
    "    [fmin , idx] = min(f_i)     #sorting\n",
    "    y = x(idx)\n",
    "    i=1                \n",
    "  \n",
    "    if (y == x0):\n",
    "        delta = delta/2\n",
    "    else:\n",
    "        x0 = y\n",
    "        x0 =x0\n",
    "\n",
    "    delta1 = (np.sqrt(sum(delta**2)))\n",
    "    j = j+1\n",
    "    if delta1 > tol:\n",
    "        break\n",
    "\n",
    "\n",
    "\n",
    "print('  No of iterations run = %d \\n ',j)\n",
    "print(' The minimum point is (%d,%d) with a function value of %.4f \\n',y,fmin)"
   ]
  },
  {
   "cell_type": "code",
   "execution_count": 1,
   "metadata": {},
   "outputs": [
    {
     "ename": "NameError",
     "evalue": "name 'x' is not defined",
     "output_type": "error",
     "traceback": [
      "\u001b[1;31m---------------------------------------------------------------------------\u001b[0m",
      "\u001b[1;31mNameError\u001b[0m                                 Traceback (most recent call last)",
      "\u001b[1;32md:\\Desktop\\Gate 2021\\Applied\\College\\IITD\\APPLIED MECHANICS\\Sem 3\\Decision Theory\\codes_assignment\\Box;s_Evolutionary_OPT_method.ipynb Cell 9\u001b[0m in \u001b[0;36m<cell line: 1>\u001b[1;34m()\u001b[0m\n\u001b[1;32m----> <a href='vscode-notebook-cell:/d%3A/Desktop/Gate%202021/Applied/College/IITD/APPLIED%20MECHANICS/Sem%203/Decision%20Theory/codes_assignment/Box%3Bs_Evolutionary_OPT_method.ipynb#X11sZmlsZQ%3D%3D?line=0'>1</a>\u001b[0m \u001b[39mprint\u001b[39m(x)\n",
      "\u001b[1;31mNameError\u001b[0m: name 'x' is not defined"
     ]
    }
   ],
   "source": [
    "print(x)"
   ]
  },
  {
   "cell_type": "code",
   "execution_count": null,
   "metadata": {},
   "outputs": [],
   "source": []
  }
 ],
 "metadata": {
  "kernelspec": {
   "display_name": "Python 3.10.6 64-bit (windows store)",
   "language": "python",
   "name": "python3"
  },
  "language_info": {
   "codemirror_mode": {
    "name": "ipython",
    "version": 3
   },
   "file_extension": ".py",
   "mimetype": "text/x-python",
   "name": "python",
   "nbconvert_exporter": "python",
   "pygments_lexer": "ipython3",
   "version": "3.10.6"
  },
  "orig_nbformat": 4,
  "vscode": {
   "interpreter": {
    "hash": "be0c76a15e7db832c1cef9e000d0973fde535108692ea45e0855d7f2c98f1a97"
   }
  }
 },
 "nbformat": 4,
 "nbformat_minor": 2
}
