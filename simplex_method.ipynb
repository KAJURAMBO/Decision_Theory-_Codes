{
 "cells": [
  {
   "cell_type": "code",
   "execution_count": 2,
   "metadata": {},
   "outputs": [],
   "source": [
    "## Import Dependencies\n",
    "import math\n",
    "import numpy as np"
   ]
  },
  {
   "cell_type": "code",
   "execution_count": 3,
   "metadata": {},
   "outputs": [],
   "source": [
    "##Define function values\n",
    "def function(x):\n",
    "        x1 = x[0]\n",
    "        x2 = x[1]    \n",
    "        fval = ((x1**2+ x2 -11)**2 + (x1 + x2**2-7)**2)  # enter your function here\n",
    "        return fval"
   ]
  },
  {
   "cell_type": "code",
   "execution_count": 4,
   "metadata": {},
   "outputs": [
    {
     "name": "stdout",
     "output_type": "stream",
     "text": [
      "Optimisation point for X1= 0.664\n",
      "Optimisation point for X1= 2.459\n"
     ]
    }
   ],
   "source": [
    "tolerance=0.01\n",
    "beta=0.5\n",
    "gamma=0.5\n",
    "point_1=0.5\n",
    "point_2=2.5\n",
    "point_3=0.5\n",
    "point_4=1.5\n",
    "point_5=1\n",
    "point_6=2\n",
    "while True:    \n",
    "        \n",
    "\n",
    "        x=[[point_1,point_2],[point_3,point_4],[point_5,point_6]]\n",
    "        # print('initial arbitrary points=',x)\n",
    "        # print('function evaluations')\n",
    "        # print(function(x[0]))\n",
    "        # print(function(x[1]))\n",
    "        # print(function(x[2]))\n",
    "        #Q=[(point_1+ point_3+ point_5)/3,(point_2+ point_4+ point_6)/3]\n",
    "        #print(Q)\n",
    "       \n",
    "        # print(x)    \n",
    "\n",
    "        ## Just Sorting the coordinates in decreasing order          \n",
    "        store=[]\n",
    "        for i in range(3):\n",
    "                m=x[i]\n",
    "                eval=function(m)\n",
    "                store.append(eval)\n",
    "        store.sort(reverse=True)\n",
    "        # print(store)\n",
    "        sorted_x=[]\n",
    "        for i in range(3):\n",
    "                for j in range(3):\n",
    "                        if function(x[i])==store[j]:\n",
    "                                new_x=x[j]\n",
    "                                sorted_x.append(new_x)\n",
    "\n",
    "        point_1=sorted_x[0][0]\n",
    "        point_2=sorted_x[0][1]\n",
    "        point_3=sorted_x[1][0]\n",
    "        point_4=sorted_x[1][1]\n",
    "        point_5=sorted_x[2][0]\n",
    "        point_6=sorted_x[2][1]\n",
    "        x=[[point_1,point_2],[point_3,point_4],[point_5,point_6]]\n",
    "        # print(x)\n",
    "         \n",
    "        ### Till here only sorting is done((((Worst Point,Less worst point,best point))))\n",
    "\n",
    "        r_c=[(x[1][0]+x[2][0])/2,(x[1][1]+x[2][1])/2]  ## Centre Point\n",
    "        r_4=[(2*r_c[0]-x[0][0]),(2*r_c[1]-x[0][1])]    ## Reflected Point(Or the new point)\n",
    "        # print('r_c=',r_c)\n",
    "        # print('r_4=',r_4)\n",
    "        \n",
    "        #print(x[0][0],x[0][1])\n",
    "        if function(r_4) < function(x[2]):##(function at(new point>Best point)) Expansion\n",
    "                point_1=(1+gamma)*r_c[0]-gamma*(x[0][0])\n",
    "                point_2=(1+gamma)*r_c[1]-gamma*(x[0][1])\n",
    "\n",
    "        #x=[[point_1,point_2],[point_3,point_4],[point_5,point_6]]\n",
    "        if function(r_4) >=function(x[0]):\n",
    "                point_1=(1-beta)*r_c[0]+beta*(x[0][0])\n",
    "                point_2=(1-beta)*r_c[1]+beta*(x[0][1])\n",
    "        \n",
    "        # if function(x[1]) < function(r_4) < function(x[0]):\n",
    "        #         point_1=(1+beta)*r_c[0]+beta*(x[0][0])\n",
    "        #         point_2=(1+beta)*r_c[1]+beta*(x[0][1])\n",
    "       \n",
    "        m=x[0]\n",
    "        n=x[1]\n",
    "        o=x[2]\n",
    "        evaluated=[function(x[0]),function(x[1]),function(x[2]),function(r_c)]\n",
    "        #if np.sqrt(sum(((function(m))-(function([r_c])))**2+((function(n))-(function([r_c])))**2+((function(o))-(function([r_c])))**2)) <=tolerance:\n",
    "        if np.sqrt((((evaluated[0]-evaluated[3])**2+(evaluated[1]-evaluated[3])**2+(evaluated[2]-evaluated[3])**2))/(len(x)+1))<=tolerance:\n",
    "\n",
    "                break\n",
    "print('Optimisation point for X1=',round(r_4[0],3))\n",
    "print('Optimisation point for X1=',round(r_4[1],3))"
   ]
  },
  {
   "cell_type": "code",
   "execution_count": null,
   "metadata": {},
   "outputs": [],
   "source": []
  }
 ],
 "metadata": {
  "kernelspec": {
   "display_name": "Python 3.10.6 64-bit (windows store)",
   "language": "python",
   "name": "python3"
  },
  "language_info": {
   "codemirror_mode": {
    "name": "ipython",
    "version": 3
   },
   "file_extension": ".py",
   "mimetype": "text/x-python",
   "name": "python",
   "nbconvert_exporter": "python",
   "pygments_lexer": "ipython3",
   "version": "3.10.6"
  },
  "orig_nbformat": 4,
  "vscode": {
   "interpreter": {
    "hash": "be0c76a15e7db832c1cef9e000d0973fde535108692ea45e0855d7f2c98f1a97"
   }
  }
 },
 "nbformat": 4,
 "nbformat_minor": 2
}
